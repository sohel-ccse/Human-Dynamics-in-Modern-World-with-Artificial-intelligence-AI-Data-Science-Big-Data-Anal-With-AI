{
 "cells": [
  {
   "cell_type": "code",
   "execution_count": null,
   "metadata": {},
   "outputs": [],
   "source": [
    "# Create the network\n",
    "# Convolution with kernel size 3, stride 1 and padding 1 does not change a tensor’s spatial dimensions, but only its depth, \n",
    " #   while ReLU, as a pointwise operation, does not change any of the tensor’s dimensions."
   ]
  },
  {
   "cell_type": "code",
   "execution_count": null,
   "metadata": {},
   "outputs": [],
   "source": [
    "class ConvRelu(torch.nn.Module):\n",
    "    \n",
    "    def __init__(self, in_depth, out_depth):super(ConvRelu, self).__init__()\n",
    "        self.conv = torch.nn.Conv2d(in_depth, out_depth, kernel_size=3, stride=1, padding=1)\n",
    "        self.activation = torch.nn.ReLU(inplace=True)\n",
    "\n",
    "    def forward(self, x):\n",
    "        x = self.conv(x)\n",
    "        x = self.activation(x)\n",
    "        return x"
   ]
  },
  {
   "cell_type": "code",
   "execution_count": null,
   "metadata": {},
   "outputs": [],
   "source": [
    "class DecoderBlock(torch.nn.Module):\n",
    "    def __init__(self, in_depth, middle_depth, out_depth):\n",
    "        super(DecoderBlock, self).__init__()\n",
    "        self.conv_relu = ConvRelu(in_depth, middle_depth)\n",
    "        self.conv_transpose = torch.nn.ConvTranspose2d(middle_depth, out_depth, kernel_size=4, stride=2, padding=1)\n",
    "        self.activation = torch.nn.ReLU(inplace=True)\n",
    "\n",
    "    def forward(self, x):\n",
    "        x = self.conv_relu(x)\n",
    "        x = self.conv_transpose(x)\n",
    "        x = self.activation(x)\n",
    "        return x"
   ]
  },
  {
   "cell_type": "code",
   "execution_count": null,
   "metadata": {},
   "outputs": [],
   "source": [
    "class UNetResNet(torch.nn.Module):\n",
    "    def __init__(self, num_classes):\n",
    "        super(UNetResNet, self).__init__()\n",
    "        \n",
    "        self.encoder = torchvision.models.resnet101(pretrained=True)\n",
    "\n",
    "        self.pool = torch.nn.MaxPool2d(2, 2)\n",
    "        self.conv1 = torch.nn.Sequential(self.encoder.conv1, self.encoder.bn1, self.encoder.relu, self.pool)\n",
    "        self.conv2 = self.encoder.layer1\n",
    "        self.conv3 = self.encoder.layer2\n",
    "        self.conv4 = self.encoder.layer3\n",
    "        self.conv5 = self.encoder.layer4\n",
    "\n",
    "        self.pool = torch.nn.MaxPool2d(2, 2)   \t \n",
    "        self.center = DecoderBlock(2048, 512, 256)\n",
    "\n",
    "        self.dec5 = DecoderBlock(2048 + 256, 512, 256)\n",
    "        self.dec4 = DecoderBlock(1024 + 256, 512, 256)\n",
    "        self.dec3 = DecoderBlock(512 + 256, 256, 64)\n",
    "        self.dec2 = DecoderBlock(256 + 64, 128, 128)\n",
    "        self.dec1 = DecoderBlock(128, 128, 32)\n",
    "        self.dec0 = ConvRelu(32, 32)\n",
    "        self.final = torch.nn.Conv2d(32, num_classes, kernel_size=1)\n",
    "\n",
    "    def forward(self, x):\n",
    "        conv1 = self.conv1(x)\n",
    "        conv2 = self.conv2(conv1)\n",
    "        conv3 = self.conv3(conv2)\n",
    "        conv4 = self.conv4(conv3)\n",
    "        conv5 = self.conv5(conv4)\n",
    "\n",
    "        pool = self.pool(conv5)\n",
    "        center = self.center(pool)\n",
    "\n",
    "        dec5 = self.dec5(torch.cat([center, conv5], 1))\n",
    "        dec4 = self.dec4(torch.cat([dec5, conv4], 1))\n",
    "        dec3 = self.dec3(torch.cat([dec4, conv3], 1))\n",
    "        dec2 = self.dec2(torch.cat([dec3, conv2], 1))\n",
    "        dec1 = self.dec1(dec2)\n",
    "        dec0 = self.dec0(dec1)\n",
    "        \n",
    "        return self.final(dec0)"
   ]
  },
  {
   "cell_type": "code",
   "execution_count": null,
   "metadata": {},
   "outputs": [],
   "source": [
    "#Train and save the model\n",
    "\n",
    "unet_resnet = UNetResNet(num_classes=2)\n",
    "unet_resnet = unet_resnet.cuda()\n",
    "unet_resnet.train()\n",
    "cross_entropy_loss = torch.nn.CrossEntropyLoss()\n",
    "optimizer = torch.optim.Adam(unet_resnet.parameters(), lr=0.0001, weight_decay=0.0001)"
   ]
  },
  {
   "cell_type": "code",
   "execution_count": null,
   "metadata": {},
   "outputs": [],
   "source": [
    "for epoch_idx in range(2):\n",
    "    \n",
    "    loss_batches = []\n",
    "    for batch_idx, data in enumerate(train_dataloader):\n",
    "        imgs, masks = data\n",
    "        imgs = torch.autograd.Variable(imgs).cuda()\n",
    "        masks = torch.autograd.Variable(masks).cuda()\n",
    "\n",
    "        y = unet_resnet(imgs)\n",
    "        loss = cross_entropy_loss(y, masks)\n",
    "\n",
    "        optimizer.zero_grad()\n",
    "        loss.backward()\n",
    "        optimizer.step()\n",
    "\n",
    "        loss_batches.append(loss.data.cpu().numpy())\n",
    "        \n",
    "        print 'epoch: ' + str(epoch_idx) + ' training loss: ' + str(np.sum(loss_batches))"
   ]
  },
  {
   "cell_type": "code",
   "execution_count": null,
   "metadata": {},
   "outputs": [],
   "source": [
    "model_file = './unet-' + str(epoch_idx)\n",
    "unet_resnet = unet_resnet.cpu()\n",
    "torch.save(unet_resnet.state_dict(), model_file)\n",
    "unet_resnet = unet_resnet.cuda()\n",
    "print 'model saved'"
   ]
  }
 ],
 "metadata": {
  "kernelspec": {
   "display_name": "Python 3",
   "language": "python",
   "name": "python3"
  },
  "language_info": {
   "codemirror_mode": {
    "name": "ipython",
    "version": 3
   },
   "file_extension": ".py",
   "mimetype": "text/x-python",
   "name": "python",
   "nbconvert_exporter": "python",
   "pygments_lexer": "ipython3",
   "version": "3.7.3"
  }
 },
 "nbformat": 4,
 "nbformat_minor": 2
}
